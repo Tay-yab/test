{
 "cells": [
  {
   "cell_type": "markdown",
   "id": "78f3b8b9-124f-403f-80fb-90a425fc1ff9",
   "metadata": {},
   "source": [
    "In this notebook, Data Science Tools and Ecosystem are summarized.\n"
   ]
  },
  {
   "cell_type": "markdown",
   "id": "4763ab70-65a9-4831-85d7-857030a30b41",
   "metadata": {},
   "source": [
    "**Objectives:**\n",
    "+ Some of the commonly used libraries used by Data Scientists\n",
    "+ List popular languages for Data Science\n",
    "+ Data Science Tools"
   ]
  },
  {
   "cell_type": "markdown",
   "id": "c933da40-183c-46b1-b2b2-4290e78340f9",
   "metadata": {},
   "source": []
  }
 ],
 "metadata": {
  "kernelspec": {
   "display_name": "Python",
   "language": "python",
   "name": "conda-env-python-py"
  },
  "language_info": {
   "codemirror_mode": {
    "name": "ipython",
    "version": 3
   },
   "file_extension": ".py",
   "mimetype": "text/x-python",
   "name": "python",
   "nbconvert_exporter": "python",
   "pygments_lexer": "ipython3",
   "version": "3.7.12"
  }
 },
 "nbformat": 4,
 "nbformat_minor": 5
}
